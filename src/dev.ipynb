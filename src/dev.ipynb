{
 "cells": [
  {
   "cell_type": "code",
   "execution_count": null,
   "id": "a4ef4024e6e48ab0",
   "metadata": {
    "ExecuteTime": {
     "end_time": "2025-03-27T20:16:00.549258Z",
     "start_time": "2025-03-27T20:16:00.447642Z"
    }
   },
   "outputs": [],
   "source": [
    "print(\"hey man\")"
   ]
  },
  {
   "cell_type": "markdown",
   "id": "3aa3c2df",
   "metadata": {},
   "source": [
    "# Datasets\n",
    "\n",
    "In order to download a dataset, you need to run the CLI.  \n",
    "For some reason, it doesn't work in a notebook.  \n",
    "Download a dataset with `python cli.py data -h`"
   ]
  },
  {
   "cell_type": "code",
   "execution_count": null,
   "id": "8850dc1b75684115",
   "metadata": {},
   "outputs": [],
   "source": [
    "from dclite.data import DiscordDataset\n",
    "\n",
    "dataset = DiscordDataset.load(\"../data/aober.json\")\n",
    "\n",
    "msgs = dataset.messages_txt_raw_coalesced()\n",
    "\n",
    "for msg in msgs[:25]:\n",
    "    print(msg)\n",
    "    print(\"\")\n",
    "\n"
   ]
  },
  {
   "cell_type": "markdown",
   "id": "7ed1c9e1",
   "metadata": {},
   "source": [
    "# funny data visualization stuff"
   ]
  },
  {
   "cell_type": "code",
   "execution_count": null,
   "id": "f348d95b",
   "metadata": {},
   "outputs": [],
   "source": [
    "\n",
    "from wordcloud import WordCloud\n",
    "import matplotlib\n",
    "import matplotlib.pyplot as plt\n",
    "\n",
    "text = ' '.join([message for message in msgs]).lower()\n",
    "fig, ax = plt.subplots(1, 1)\n",
    "wordcloud = WordCloud(max_font_size=60, max_words=30).generate(text)\n",
    "plt.figure(figsize = (10, 10))\n",
    "plt.imshow(wordcloud, interpolation=\"bilinear\")\n",
    "plt.axis(\"off\")\n",
    "plt.show()"
   ]
  },
  {
   "cell_type": "code",
   "execution_count": null,
   "id": "3ddac514",
   "metadata": {},
   "outputs": [],
   "source": []
  }
 ],
 "metadata": {
  "kernelspec": {
   "display_name": "dclite-laq7SPAp-py3.12",
   "language": "python",
   "name": "python3"
  },
  "language_info": {
   "codemirror_mode": {
    "name": "ipython",
    "version": 3
   },
   "file_extension": ".py",
   "mimetype": "text/x-python",
   "name": "python",
   "nbconvert_exporter": "python",
   "pygments_lexer": "ipython3",
   "version": "3.12.7"
  }
 },
 "nbformat": 5,
 "nbformat_minor": 9
}
